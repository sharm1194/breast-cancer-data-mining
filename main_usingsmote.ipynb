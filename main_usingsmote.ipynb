{
 "cells": [
  {
   "cell_type": "code",
   "execution_count": 1,
   "metadata": {},
   "outputs": [],
   "source": [
    "# Data analysis\n",
    "import numpy as np\n",
    "import pandas as pd\n",
    "import matplotlib.pyplot as plt\n",
    "import seaborn as sns\n",
    "\n",
    "# Imputing missing values\n",
    "from sklearn.impute import KNNImputer\n",
    "\n",
    "from scipy.stats import chi2_contingency\n",
    "\n",
    "# Feature engineering\n",
    "from sklearn.preprocessing import StandardScaler\n",
    "\n",
    "# Model processing and testing\n",
    "from imblearn.over_sampling import SMOTE\n",
    "from sklearn.model_selection import train_test_split\n",
    "from sklearn.metrics import accuracy_score, f1_score, confusion_matrix, classification_report\n",
    "from sklearn.metrics import roc_auc_score, plot_roc_curve, precision_score, recall_score\n",
    "\n",
    "# Models\n",
    "from sklearn.linear_model import LogisticRegression\n",
    "from sklearn.ensemble import RandomForestClassifier\n",
    "from sklearn.neighbors import KNeighborsClassifier\n",
    "from xgboost import XGBClassifier\n",
    "from sklearn.svm import SVC\n",
    "from sklearn.tree import DecisionTreeClassifier"
   ]
  },
  {
   "cell_type": "code",
   "execution_count": 2,
   "metadata": {},
   "outputs": [],
   "source": [
    "df = pd.read_csv(\"data.csv\")"
   ]
  },
  {
   "cell_type": "code",
   "execution_count": 3,
   "metadata": {},
   "outputs": [],
   "source": [
    "df.drop('Unnamed: 32', axis = 1, inplace = True)"
   ]
  },
  {
   "cell_type": "code",
   "execution_count": 4,
   "metadata": {},
   "outputs": [],
   "source": [
    "df = df.drop('id', axis=1) #id column not necessary\n"
   ]
  },
  {
   "cell_type": "code",
   "execution_count": 5,
   "metadata": {},
   "outputs": [],
   "source": [
    "df.diagnosis = [1 if i == \"M\" else 0 for i in df.diagnosis]\n"
   ]
  },
  {
   "cell_type": "code",
   "execution_count": 6,
   "metadata": {},
   "outputs": [
    {
     "name": "stdout",
     "output_type": "stream",
     "text": [
      "0    357\n",
      "1    212\n",
      "Name: diagnosis, dtype: int64\n",
      "1    357\n",
      "0    357\n",
      "Name: diagnosis, dtype: int64\n"
     ]
    }
   ],
   "source": [
    "x = df.drop('diagnosis', axis = 1)\n",
    "y = df['diagnosis']\n",
    "\n",
    "\n",
    "smote = SMOTE()\n",
    "\n",
    "x_oversample, y_oversample = smote.fit_resample(x, y)\n",
    "\n",
    "print(y.value_counts())\n",
    "print(y_oversample.value_counts())"
   ]
  },
  {
   "cell_type": "code",
   "execution_count": 7,
   "metadata": {},
   "outputs": [],
   "source": [
    "x_train, x_test, y_train, y_test = train_test_split(x_oversample, y_oversample, test_size = 0.2, random_state = 0)"
   ]
  },
  {
   "cell_type": "markdown",
   "metadata": {},
   "source": [
    "# LR"
   ]
  },
  {
   "cell_type": "code",
   "execution_count": 8,
   "metadata": {},
   "outputs": [
    {
     "name": "stdout",
     "output_type": "stream",
     "text": [
      "              precision    recall  f1-score   support\n",
      "\n",
      "           0       0.95      0.97      0.96        78\n",
      "           1       0.97      0.94      0.95        65\n",
      "\n",
      "    accuracy                           0.96       143\n",
      "   macro avg       0.96      0.96      0.96       143\n",
      "weighted avg       0.96      0.96      0.96       143\n",
      "\n"
     ]
    },
    {
     "name": "stderr",
     "output_type": "stream",
     "text": [
      "/Users/sharmin/opt/anaconda3/lib/python3.8/site-packages/sklearn/linear_model/_logistic.py:762: ConvergenceWarning: lbfgs failed to converge (status=1):\n",
      "STOP: TOTAL NO. of ITERATIONS REACHED LIMIT.\n",
      "\n",
      "Increase the number of iterations (max_iter) or scale the data as shown in:\n",
      "    https://scikit-learn.org/stable/modules/preprocessing.html\n",
      "Please also refer to the documentation for alternative solver options:\n",
      "    https://scikit-learn.org/stable/modules/linear_model.html#logistic-regression\n",
      "  n_iter_i = _check_optimize_result(\n"
     ]
    }
   ],
   "source": [
    "log = LogisticRegression()\n",
    "log.fit(x_train, y_train)\n",
    "y_pred_log = log.predict(x_test)\n",
    "cr = classification_report(y_test, y_pred_log)\n",
    "print(cr)"
   ]
  },
  {
   "cell_type": "code",
   "execution_count": 32,
   "metadata": {},
   "outputs": [
    {
     "name": "stdout",
     "output_type": "stream",
     "text": [
      "Precision Score:  0.97\n",
      "Recall Score:  0.94\n",
      "F1 Score:  0.95\n",
      "Accuracy Score:  0.958\n",
      "ROC AUC:  0.96\n"
     ]
    }
   ],
   "source": [
    "print('Precision Score: ', round(precision_score(y_test, y_pred_log), 2))\n",
    "print('Recall Score: ', round(recall_score(y_test, y_pred_log), 2))\n",
    "print('F1 Score: ', round(f1_score(y_test, y_pred_log), 2))\n",
    "print('Accuracy Score: ', round(accuracy_score(y_test, y_pred_log), 3))\n",
    "print('ROC AUC: ', round(roc_auc_score(y_test, y_pred_log), 2))"
   ]
  },
  {
   "cell_type": "markdown",
   "metadata": {},
   "source": [
    "# RF"
   ]
  },
  {
   "cell_type": "code",
   "execution_count": 10,
   "metadata": {},
   "outputs": [
    {
     "name": "stdout",
     "output_type": "stream",
     "text": [
      "              precision    recall  f1-score   support\n",
      "\n",
      "           0       0.96      0.97      0.97        78\n",
      "           1       0.97      0.95      0.96        65\n",
      "\n",
      "    accuracy                           0.97       143\n",
      "   macro avg       0.97      0.96      0.96       143\n",
      "weighted avg       0.97      0.97      0.97       143\n",
      "\n"
     ]
    }
   ],
   "source": [
    "rf = RandomForestClassifier()\n",
    "rf.fit(x_train, y_train)\n",
    "y_pred_rf = rf.predict(x_test)\n",
    "cr_rf = classification_report(y_test, y_pred_rf)\n",
    "print(cr_rf)"
   ]
  },
  {
   "cell_type": "code",
   "execution_count": 46,
   "metadata": {},
   "outputs": [
    {
     "name": "stdout",
     "output_type": "stream",
     "text": [
      "Precision Score:  0.97\n",
      "Recall Score:  0.95\n",
      "F1 Score:  0.96\n",
      "Accuracy Score:  0.965\n",
      "ROC AUC:  0.96\n"
     ]
    }
   ],
   "source": [
    "print('Precision Score: ', round(precision_score(y_test, y_pred_rf), 2))\n",
    "print('Recall Score: ', round(recall_score(y_test, y_pred_rf), 2))\n",
    "print('F1 Score: ', round(f1_score(y_test, y_pred_rf), 2))\n",
    "print('Accuracy Score: ', round(accuracy_score(y_test, y_pred_rf), 4))\n",
    "print('ROC AUC: ', round(roc_auc_score(y_test, y_pred_rf), 2))"
   ]
  },
  {
   "cell_type": "markdown",
   "metadata": {},
   "source": [
    "# KNN"
   ]
  },
  {
   "cell_type": "code",
   "execution_count": 12,
   "metadata": {},
   "outputs": [
    {
     "name": "stdout",
     "output_type": "stream",
     "text": [
      "              precision    recall  f1-score   support\n",
      "\n",
      "           0       0.94      0.95      0.94        78\n",
      "           1       0.94      0.92      0.93        65\n",
      "\n",
      "    accuracy                           0.94       143\n",
      "   macro avg       0.94      0.94      0.94       143\n",
      "weighted avg       0.94      0.94      0.94       143\n",
      "\n"
     ]
    }
   ],
   "source": [
    "knn = KNeighborsClassifier()\n",
    "knn.fit(x_train, y_train)\n",
    "y_pred_knn = knn.predict(x_test)\n",
    "cr_knn = classification_report(y_test, y_pred_knn)\n",
    "print(cr_knn)"
   ]
  },
  {
   "cell_type": "code",
   "execution_count": 13,
   "metadata": {},
   "outputs": [
    {
     "name": "stdout",
     "output_type": "stream",
     "text": [
      "Precision Score:  0.94\n",
      "Recall Score:  0.92\n",
      "F1 Score:  0.93\n",
      "Accuracy Score:  0.94\n",
      "ROC AUC:  0.94\n"
     ]
    }
   ],
   "source": [
    "print('Precision Score: ', round(precision_score(y_test, y_pred_knn), 2))\n",
    "print('Recall Score: ', round(recall_score(y_test, y_pred_knn), 2))\n",
    "print('F1 Score: ', round(f1_score(y_test, y_pred_knn), 3))\n",
    "print('Accuracy Score: ', round(accuracy_score(y_test, y_pred_knn), 2))\n",
    "print('ROC AUC: ', round(roc_auc_score(y_test, y_pred_knn), 2))"
   ]
  },
  {
   "cell_type": "markdown",
   "metadata": {},
   "source": [
    "# svm"
   ]
  },
  {
   "cell_type": "code",
   "execution_count": 14,
   "metadata": {},
   "outputs": [
    {
     "name": "stdout",
     "output_type": "stream",
     "text": [
      "              precision    recall  f1-score   support\n",
      "\n",
      "           0       0.94      0.95      0.94        78\n",
      "           1       0.94      0.92      0.93        65\n",
      "\n",
      "    accuracy                           0.94       143\n",
      "   macro avg       0.94      0.94      0.94       143\n",
      "weighted avg       0.94      0.94      0.94       143\n",
      "\n"
     ]
    }
   ],
   "source": [
    "svm = SVC()\n",
    "svm.fit(x_train, y_train)\n",
    "y_pred_svm = svm.predict(x_test)\n",
    "cr_svm = classification_report(y_test, y_pred_knn)\n",
    "print(cr_svm)"
   ]
  },
  {
   "cell_type": "code",
   "execution_count": 15,
   "metadata": {},
   "outputs": [
    {
     "name": "stdout",
     "output_type": "stream",
     "text": [
      "Precision Score:  0.96\n",
      "Recall Score:  0.82\n",
      "F1 Score:  0.883\n",
      "Accuracy Score:  0.902\n",
      "ROC AUC:  0.895\n"
     ]
    }
   ],
   "source": [
    "print('Precision Score: ', round(precision_score(y_test, y_pred_svm), 2))\n",
    "print('Recall Score: ', round(recall_score(y_test, y_pred_svm), 2))\n",
    "print('F1 Score: ', round(f1_score(y_test, y_pred_svm), 3))\n",
    "print('Accuracy Score: ', round(accuracy_score(y_test, y_pred_svm), 3))\n",
    "print('ROC AUC: ', round(roc_auc_score(y_test, y_pred_svm), 3))"
   ]
  },
  {
   "cell_type": "markdown",
   "metadata": {},
   "source": [
    "# dt"
   ]
  },
  {
   "cell_type": "code",
   "execution_count": 16,
   "metadata": {},
   "outputs": [
    {
     "name": "stdout",
     "output_type": "stream",
     "text": [
      "              precision    recall  f1-score   support\n",
      "\n",
      "           0       0.97      0.96      0.97        78\n",
      "           1       0.95      0.97      0.96        65\n",
      "\n",
      "    accuracy                           0.97       143\n",
      "   macro avg       0.96      0.97      0.96       143\n",
      "weighted avg       0.97      0.97      0.97       143\n",
      "\n"
     ]
    }
   ],
   "source": [
    "dt = DecisionTreeClassifier()\n",
    "dt.fit(x_train, y_train)\n",
    "y_pred_dt = dt.predict(x_test)\n",
    "cr_dt = classification_report(y_test, y_pred_dt)\n",
    "print(cr_dt)"
   ]
  },
  {
   "cell_type": "code",
   "execution_count": 45,
   "metadata": {},
   "outputs": [
    {
     "name": "stdout",
     "output_type": "stream",
     "text": [
      "Precision Score:  0.955\n",
      "Recall Score:  0.969\n",
      "F1 Score:  0.962\n",
      "Accuracy Score:  0.965\n",
      "ROC AUC:  0.965\n"
     ]
    }
   ],
   "source": [
    "print('Precision Score: ', round(precision_score(y_test, y_pred_dt), 3))\n",
    "print('Recall Score: ', round(recall_score(y_test, y_pred_dt), 3))\n",
    "print('F1 Score: ', round(f1_score(y_test, y_pred_dt), 3))\n",
    "print('Accuracy Score: ', round(accuracy_score(y_test, y_pred_dt), 3))\n",
    "print('ROC AUC: ', round(roc_auc_score(y_test, y_pred_dt), 3))"
   ]
  },
  {
   "cell_type": "markdown",
   "metadata": {},
   "source": [
    "# Naive "
   ]
  },
  {
   "cell_type": "code",
   "execution_count": 18,
   "metadata": {},
   "outputs": [
    {
     "name": "stdout",
     "output_type": "stream",
     "text": [
      "              precision    recall  f1-score   support\n",
      "\n",
      "           0       0.91      0.96      0.94        78\n",
      "           1       0.95      0.89      0.92        65\n",
      "\n",
      "    accuracy                           0.93       143\n",
      "   macro avg       0.93      0.93      0.93       143\n",
      "weighted avg       0.93      0.93      0.93       143\n",
      "\n"
     ]
    }
   ],
   "source": [
    "from sklearn.naive_bayes import GaussianNB\n",
    "bx = GaussianNB()\n",
    "bx.fit(x_train, y_train)\n",
    "y_pred_bx = bx.predict(x_test)\n",
    "cr_bx = classification_report(y_test, y_pred_bx)\n",
    "print(cr_bx)"
   ]
  },
  {
   "cell_type": "code",
   "execution_count": 19,
   "metadata": {},
   "outputs": [
    {
     "name": "stdout",
     "output_type": "stream",
     "text": [
      "Precision Score:  0.95\n",
      "Recall Score:  0.892\n",
      "F1 Score:  0.921\n",
      "Accuracy Score:  0.93\n",
      "ROC AUC:  0.93\n"
     ]
    }
   ],
   "source": [
    "print('Precision Score: ', round(precision_score(y_test, y_pred_bx), 2))\n",
    "print('Recall Score: ', round(recall_score(y_test, y_pred_bx), 3))\n",
    "print('F1 Score: ', round(f1_score(y_test, y_pred_bx), 3))\n",
    "print('Accuracy Score: ', round(accuracy_score(y_test, y_pred_bx), 3))\n",
    "print('ROC AUC: ', round(roc_auc_score(y_test, y_pred_bx), 2))"
   ]
  },
  {
   "cell_type": "markdown",
   "metadata": {},
   "source": [
    "# adaboost"
   ]
  },
  {
   "cell_type": "code",
   "execution_count": 20,
   "metadata": {},
   "outputs": [],
   "source": [
    "from sklearn.ensemble import AdaBoostClassifier\n"
   ]
  },
  {
   "cell_type": "code",
   "execution_count": 21,
   "metadata": {},
   "outputs": [
    {
     "name": "stdout",
     "output_type": "stream",
     "text": [
      "              precision    recall  f1-score   support\n",
      "\n",
      "           0       0.96      0.96      0.96        78\n",
      "           1       0.95      0.95      0.95        65\n",
      "\n",
      "    accuracy                           0.96       143\n",
      "   macro avg       0.96      0.96      0.96       143\n",
      "weighted avg       0.96      0.96      0.96       143\n",
      "\n"
     ]
    }
   ],
   "source": [
    "ad = AdaBoostClassifier()\n",
    "ad.fit(x_train, y_train)\n",
    "y_pred_ad = ad.predict(x_test)\n",
    "cr_ad = classification_report(y_test, y_pred_ad)\n",
    "print(cr_ad)"
   ]
  },
  {
   "cell_type": "code",
   "execution_count": 26,
   "metadata": {},
   "outputs": [
    {
     "name": "stdout",
     "output_type": "stream",
     "text": [
      "Precision Score:  0.95\n",
      "Recall Score:  0.954\n",
      "F1 Score:  0.954\n",
      "Accuracy Score:  0.958\n",
      "ROC AUC:  0.96\n"
     ]
    }
   ],
   "source": [
    "print('Precision Score: ', round(precision_score(y_test, y_pred_ad), 2))\n",
    "print('Recall Score: ', round(recall_score(y_test, y_pred_ad), 3))\n",
    "print('F1 Score: ', round(f1_score(y_test, y_pred_ad), 3))\n",
    "print('Accuracy Score: ', round(accuracy_score(y_test, y_pred_ad), 3))\n",
    "print('ROC AUC: ', round(roc_auc_score(y_test, y_pred_ad), 2))"
   ]
  },
  {
   "cell_type": "code",
   "execution_count": null,
   "metadata": {},
   "outputs": [],
   "source": []
  },
  {
   "cell_type": "markdown",
   "metadata": {},
   "source": [
    "# Roc curve of DT"
   ]
  },
  {
   "cell_type": "code",
   "execution_count": 28,
   "metadata": {},
   "outputs": [
    {
     "data": {
      "text/plain": [
       "0.9653846153846154"
      ]
     },
     "execution_count": 28,
     "metadata": {},
     "output_type": "execute_result"
    }
   ],
   "source": [
    "auc_dt = roc_auc_score(y_test, y_pred_dt)\n",
    "auc_dt"
   ]
  },
  {
   "cell_type": "code",
   "execution_count": 29,
   "metadata": {},
   "outputs": [
    {
     "data": {
      "text/plain": [
       "array([[75,  3],\n",
       "       [ 2, 63]])"
      ]
     },
     "execution_count": 29,
     "metadata": {},
     "output_type": "execute_result"
    }
   ],
   "source": [
    "cm_dt = confusion_matrix(y_test, y_pred_dt)\n",
    "cm_dt"
   ]
  },
  {
   "cell_type": "code",
   "execution_count": 47,
   "metadata": {},
   "outputs": [],
   "source": [
    "from sklearn.metrics import roc_curve, roc_auc_score\n",
    "\n",
    "predicted_probab_dt = dt.predict_proba(x_test)\n",
    "predicted_probab_dt = predicted_probab_dt[:, 1]\n",
    "fpr1, tpr1, _ = roc_curve(y_test, predicted_probab_dt)"
   ]
  },
  {
   "cell_type": "code",
   "execution_count": 49,
   "metadata": {},
   "outputs": [
    {
     "data": {
      "image/png": "[encoded data removed]",
      "text/plain": [
       "<Figure size 432x288 with 1 Axes>"
      ]
     },
     "metadata": {
      "needs_background": "light"
     },
     "output_type": "display_data"
    }
   ],
   "source": [
    "from matplotlib import pyplot\n",
    "pyplot.plot(fpr2, tpr2, marker='.', label='Random Forest (AUROC = %0.4f)'% auc_dt)\n",
    "# Title\n",
    "pyplot.title('ROC Plot')\n",
    "pyplot.xlabel('False Positive Rate')\n",
    "pyplot.ylabel('True Positive Rate')\n",
    "pyplot.legend()\n",
    "pyplot.show()"
   ]
  },
  {
   "cell_type": "markdown",
   "metadata": {},
   "source": [
    "# Roc curve of RF"
   ]
  },
  {
   "cell_type": "code",
   "execution_count": 37,
   "metadata": {},
   "outputs": [
    {
     "data": {
      "text/plain": [
       "0.9641025641025641"
      ]
     },
     "execution_count": 37,
     "metadata": {},
     "output_type": "execute_result"
    }
   ],
   "source": [
    "auc_rf = roc_auc_score(y_test, y_pred_rf)\n",
    "auc_rf"
   ]
  },
  {
   "cell_type": "code",
   "execution_count": 39,
   "metadata": {},
   "outputs": [
    {
     "data": {
      "text/plain": [
       "array([[76,  2],\n",
       "       [ 3, 62]])"
      ]
     },
     "execution_count": 39,
     "metadata": {},
     "output_type": "execute_result"
    }
   ],
   "source": [
    "cm_rf = confusion_matrix(y_test, y_pred_rf)\n",
    "cm_rf"
   ]
  },
  {
   "cell_type": "code",
   "execution_count": 40,
   "metadata": {},
   "outputs": [],
   "source": [
    "from sklearn.metrics import roc_curve, roc_auc_score\n",
    "\n",
    "predicted_probab_dt = dt.predict_proba(x_test)\n",
    "predicted_probab_dt = predicted_probab_dt[:, 1]\n",
    "fpr2, tpr2, _ = roc_curve(y_test, predicted_probab_dt)"
   ]
  },
  {
   "cell_type": "code",
   "execution_count": 50,
   "metadata": {},
   "outputs": [
    {
     "data": {
      "image/png": "[encoded data removed]",
      "text/plain": [
       "<Figure size 432x288 with 1 Axes>"
      ]
     },
     "metadata": {
      "needs_background": "light"
     },
     "output_type": "display_data"
    }
   ],
   "source": [
    "from matplotlib import pyplot\n",
    "pyplot.plot(fpr2, tpr2, marker='.', label='Random Forest (AUROC = %0.4f)'% auc_rf)\n",
    "# Title\n",
    "pyplot.title('ROC Plot')\n",
    "pyplot.xlabel('False Positive Rate')\n",
    "pyplot.ylabel('True Positive Rate')\n",
    "pyplot.legend()\n",
    "pyplot.show()"
   ]
  },
  {
   "cell_type": "code",
   "execution_count": null,
   "metadata": {},
   "outputs": [],
   "source": []
  },
  {
   "cell_type": "code",
   "execution_count": 52,
   "metadata": {},
   "outputs": [
    {
     "data": {
      "image/png": "[encoded data removed]",
      "text/plain": [
       "<Figure size 432x288 with 1 Axes>"
      ]
     },
     "metadata": {
      "needs_background": "light"
     },
     "output_type": "display_data"
    }
   ],
   "source": [
    "plt.plot(fpr1, tpr1, label='Decission Tree (AUROC = %0.4f)' % auc_dt)\n",
    "plt.plot(fpr2, tpr2, marker='.', label='Random Forest (AUROC = %0.4f)' % auc_rf)\n",
    "\n",
    "# Title\n",
    "plt.title('ROC Plot')\n",
    "# Axis labels\n",
    "plt.xlabel('False Positive Rate')\n",
    "plt.ylabel('True Positive Rate')\n",
    "# Show legend\n",
    "plt.legend() # \n",
    "# Show plot\n",
    "plt.show()"
   ]
  },
  {
   "cell_type": "code",
   "execution_count": null,
   "metadata": {},
   "outputs": [],
   "source": []
  }
 ],
 "metadata": {
  "kernelspec": {
   "display_name": "Python 3",
   "language": "python",
   "name": "python3"
  },
  "language_info": {
   "codemirror_mode": {
    "name": "ipython",
    "version": 3
   },
   "file_extension": ".py",
   "mimetype": "text/x-python",
   "name": "python",
   "nbconvert_exporter": "python",
   "pygments_lexer": "ipython3",
   "version": "3.8.5"
  }
 },
 "nbformat": 4,
 "nbformat_minor": 4
}
